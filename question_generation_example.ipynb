{
  "nbformat": 4,
  "nbformat_minor": 0,
  "metadata": {
    "colab": {
      "name": "question_generation_example.ipynb",
      "provenance": [],
      "collapsed_sections": []
    },
    "kernelspec": {
      "name": "python3",
      "display_name": "Python 3"
    },
    "accelerator": "GPU"
  },
  "cells": [
    {
      "cell_type": "markdown",
      "metadata": {
        "id": "37NoGAv01Rpf"
      },
      "source": [
        "# Question Generator example\n"
      ]
    },
    {
      "cell_type": "markdown",
      "metadata": {
        "id": "Zp5OXQIYr75w"
      },
      "source": [
        "First we need to install HuggingFace's transformers library."
      ]
    },
    {
      "cell_type": "code",
      "metadata": {
        "id": "XUHut4M46Q4Y",
        "colab": {
          "base_uri": "https://localhost:8080/"
        },
        "outputId": "6a6da99a-fa40-4559-c3e4-c24831c6e34c"
      },
      "source": [
        "!pip install transformers"
      ],
      "execution_count": null,
      "outputs": [
        {
          "output_type": "stream",
          "text": [
            "Collecting transformers\n",
            "\u001b[?25l  Downloading https://files.pythonhosted.org/packages/b0/9e/5b80becd952d5f7250eaf8fc64b957077b12ccfe73e9c03d37146ab29712/transformers-4.6.0-py3-none-any.whl (2.3MB)\n",
            "\u001b[K     |████████████████████████████████| 2.3MB 11.3MB/s \n",
            "\u001b[?25hCollecting tokenizers<0.11,>=0.10.1\n",
            "\u001b[?25l  Downloading https://files.pythonhosted.org/packages/ae/04/5b870f26a858552025a62f1649c20d29d2672c02ff3c3fb4c688ca46467a/tokenizers-0.10.2-cp37-cp37m-manylinux2010_x86_64.whl (3.3MB)\n",
            "\u001b[K     |████████████████████████████████| 3.3MB 33.0MB/s \n",
            "\u001b[?25hRequirement already satisfied: requests in /usr/local/lib/python3.7/dist-packages (from transformers) (2.23.0)\n",
            "Requirement already satisfied: numpy>=1.17 in /usr/local/lib/python3.7/dist-packages (from transformers) (1.19.5)\n",
            "Requirement already satisfied: regex!=2019.12.17 in /usr/local/lib/python3.7/dist-packages (from transformers) (2019.12.20)\n",
            "Requirement already satisfied: filelock in /usr/local/lib/python3.7/dist-packages (from transformers) (3.0.12)\n",
            "Collecting huggingface-hub==0.0.8\n",
            "  Downloading https://files.pythonhosted.org/packages/a1/88/7b1e45720ecf59c6c6737ff332f41c955963090a18e72acbcbeac6b25e86/huggingface_hub-0.0.8-py3-none-any.whl\n",
            "Requirement already satisfied: importlib-metadata; python_version < \"3.8\" in /usr/local/lib/python3.7/dist-packages (from transformers) (4.0.1)\n",
            "Requirement already satisfied: packaging in /usr/local/lib/python3.7/dist-packages (from transformers) (20.9)\n",
            "Collecting sacremoses\n",
            "\u001b[?25l  Downloading https://files.pythonhosted.org/packages/75/ee/67241dc87f266093c533a2d4d3d69438e57d7a90abb216fa076e7d475d4a/sacremoses-0.0.45-py3-none-any.whl (895kB)\n",
            "\u001b[K     |████████████████████████████████| 901kB 33.9MB/s \n",
            "\u001b[?25hRequirement already satisfied: tqdm>=4.27 in /usr/local/lib/python3.7/dist-packages (from transformers) (4.41.1)\n",
            "Requirement already satisfied: urllib3!=1.25.0,!=1.25.1,<1.26,>=1.21.1 in /usr/local/lib/python3.7/dist-packages (from requests->transformers) (1.24.3)\n",
            "Requirement already satisfied: chardet<4,>=3.0.2 in /usr/local/lib/python3.7/dist-packages (from requests->transformers) (3.0.4)\n",
            "Requirement already satisfied: certifi>=2017.4.17 in /usr/local/lib/python3.7/dist-packages (from requests->transformers) (2020.12.5)\n",
            "Requirement already satisfied: idna<3,>=2.5 in /usr/local/lib/python3.7/dist-packages (from requests->transformers) (2.10)\n",
            "Requirement already satisfied: zipp>=0.5 in /usr/local/lib/python3.7/dist-packages (from importlib-metadata; python_version < \"3.8\"->transformers) (3.4.1)\n",
            "Requirement already satisfied: typing-extensions>=3.6.4; python_version < \"3.8\" in /usr/local/lib/python3.7/dist-packages (from importlib-metadata; python_version < \"3.8\"->transformers) (3.7.4.3)\n",
            "Requirement already satisfied: pyparsing>=2.0.2 in /usr/local/lib/python3.7/dist-packages (from packaging->transformers) (2.4.7)\n",
            "Requirement already satisfied: click in /usr/local/lib/python3.7/dist-packages (from sacremoses->transformers) (7.1.2)\n",
            "Requirement already satisfied: joblib in /usr/local/lib/python3.7/dist-packages (from sacremoses->transformers) (1.0.1)\n",
            "Requirement already satisfied: six in /usr/local/lib/python3.7/dist-packages (from sacremoses->transformers) (1.15.0)\n",
            "Installing collected packages: tokenizers, huggingface-hub, sacremoses, transformers\n",
            "Successfully installed huggingface-hub-0.0.8 sacremoses-0.0.45 tokenizers-0.10.2 transformers-4.6.0\n"
          ],
          "name": "stdout"
        }
      ]
    },
    {
      "cell_type": "code",
      "metadata": {
        "colab": {
          "base_uri": "https://localhost:8080/"
        },
        "id": "065kTjg3Fshh",
        "outputId": "739d5c92-b19a-4b42-9464-99d9e1bcf286"
      },
      "source": [
        "pip install sentencepiece"
      ],
      "execution_count": null,
      "outputs": [
        {
          "output_type": "stream",
          "text": [
            "Collecting sentencepiece\n",
            "\u001b[?25l  Downloading https://files.pythonhosted.org/packages/f5/99/e0808cb947ba10f575839c43e8fafc9cc44e4a7a2c8f79c60db48220a577/sentencepiece-0.1.95-cp37-cp37m-manylinux2014_x86_64.whl (1.2MB)\n",
            "\r\u001b[K     |▎                               | 10kB 12.2MB/s eta 0:00:01\r\u001b[K     |▌                               | 20kB 17.9MB/s eta 0:00:01\r\u001b[K     |▉                               | 30kB 21.8MB/s eta 0:00:01\r\u001b[K     |█                               | 40kB 23.8MB/s eta 0:00:01\r\u001b[K     |█▍                              | 51kB 13.8MB/s eta 0:00:01\r\u001b[K     |█▋                              | 61kB 11.1MB/s eta 0:00:01\r\u001b[K     |██                              | 71kB 11.0MB/s eta 0:00:01\r\u001b[K     |██▏                             | 81kB 11.8MB/s eta 0:00:01\r\u001b[K     |██▌                             | 92kB 12.8MB/s eta 0:00:01\r\u001b[K     |██▊                             | 102kB 10.0MB/s eta 0:00:01\r\u001b[K     |███                             | 112kB 10.0MB/s eta 0:00:01\r\u001b[K     |███▎                            | 122kB 10.0MB/s eta 0:00:01\r\u001b[K     |███▌                            | 133kB 10.0MB/s eta 0:00:01\r\u001b[K     |███▉                            | 143kB 10.0MB/s eta 0:00:01\r\u001b[K     |████                            | 153kB 10.0MB/s eta 0:00:01\r\u001b[K     |████▍                           | 163kB 10.0MB/s eta 0:00:01\r\u001b[K     |████▋                           | 174kB 10.0MB/s eta 0:00:01\r\u001b[K     |█████                           | 184kB 10.0MB/s eta 0:00:01\r\u001b[K     |█████▏                          | 194kB 10.0MB/s eta 0:00:01\r\u001b[K     |█████▌                          | 204kB 10.0MB/s eta 0:00:01\r\u001b[K     |█████▊                          | 215kB 10.0MB/s eta 0:00:01\r\u001b[K     |██████                          | 225kB 10.0MB/s eta 0:00:01\r\u001b[K     |██████▎                         | 235kB 10.0MB/s eta 0:00:01\r\u001b[K     |██████▌                         | 245kB 10.0MB/s eta 0:00:01\r\u001b[K     |██████▉                         | 256kB 10.0MB/s eta 0:00:01\r\u001b[K     |███████                         | 266kB 10.0MB/s eta 0:00:01\r\u001b[K     |███████▍                        | 276kB 10.0MB/s eta 0:00:01\r\u001b[K     |███████▋                        | 286kB 10.0MB/s eta 0:00:01\r\u001b[K     |████████                        | 296kB 10.0MB/s eta 0:00:01\r\u001b[K     |████████▏                       | 307kB 10.0MB/s eta 0:00:01\r\u001b[K     |████████▍                       | 317kB 10.0MB/s eta 0:00:01\r\u001b[K     |████████▊                       | 327kB 10.0MB/s eta 0:00:01\r\u001b[K     |█████████                       | 337kB 10.0MB/s eta 0:00:01\r\u001b[K     |█████████▎                      | 348kB 10.0MB/s eta 0:00:01\r\u001b[K     |█████████▌                      | 358kB 10.0MB/s eta 0:00:01\r\u001b[K     |█████████▉                      | 368kB 10.0MB/s eta 0:00:01\r\u001b[K     |██████████                      | 378kB 10.0MB/s eta 0:00:01\r\u001b[K     |██████████▍                     | 389kB 10.0MB/s eta 0:00:01\r\u001b[K     |██████████▋                     | 399kB 10.0MB/s eta 0:00:01\r\u001b[K     |███████████                     | 409kB 10.0MB/s eta 0:00:01\r\u001b[K     |███████████▏                    | 419kB 10.0MB/s eta 0:00:01\r\u001b[K     |███████████▍                    | 430kB 10.0MB/s eta 0:00:01\r\u001b[K     |███████████▊                    | 440kB 10.0MB/s eta 0:00:01\r\u001b[K     |████████████                    | 450kB 10.0MB/s eta 0:00:01\r\u001b[K     |████████████▎                   | 460kB 10.0MB/s eta 0:00:01\r\u001b[K     |████████████▌                   | 471kB 10.0MB/s eta 0:00:01\r\u001b[K     |████████████▉                   | 481kB 10.0MB/s eta 0:00:01\r\u001b[K     |█████████████                   | 491kB 10.0MB/s eta 0:00:01\r\u001b[K     |█████████████▍                  | 501kB 10.0MB/s eta 0:00:01\r\u001b[K     |█████████████▋                  | 512kB 10.0MB/s eta 0:00:01\r\u001b[K     |█████████████▉                  | 522kB 10.0MB/s eta 0:00:01\r\u001b[K     |██████████████▏                 | 532kB 10.0MB/s eta 0:00:01\r\u001b[K     |██████████████▍                 | 542kB 10.0MB/s eta 0:00:01\r\u001b[K     |██████████████▊                 | 552kB 10.0MB/s eta 0:00:01\r\u001b[K     |███████████████                 | 563kB 10.0MB/s eta 0:00:01\r\u001b[K     |███████████████▎                | 573kB 10.0MB/s eta 0:00:01\r\u001b[K     |███████████████▌                | 583kB 10.0MB/s eta 0:00:01\r\u001b[K     |███████████████▉                | 593kB 10.0MB/s eta 0:00:01\r\u001b[K     |████████████████                | 604kB 10.0MB/s eta 0:00:01\r\u001b[K     |████████████████▍               | 614kB 10.0MB/s eta 0:00:01\r\u001b[K     |████████████████▋               | 624kB 10.0MB/s eta 0:00:01\r\u001b[K     |████████████████▉               | 634kB 10.0MB/s eta 0:00:01\r\u001b[K     |█████████████████▏              | 645kB 10.0MB/s eta 0:00:01\r\u001b[K     |█████████████████▍              | 655kB 10.0MB/s eta 0:00:01\r\u001b[K     |█████████████████▊              | 665kB 10.0MB/s eta 0:00:01\r\u001b[K     |██████████████████              | 675kB 10.0MB/s eta 0:00:01\r\u001b[K     |██████████████████▎             | 686kB 10.0MB/s eta 0:00:01\r\u001b[K     |██████████████████▌             | 696kB 10.0MB/s eta 0:00:01\r\u001b[K     |██████████████████▉             | 706kB 10.0MB/s eta 0:00:01\r\u001b[K     |███████████████████             | 716kB 10.0MB/s eta 0:00:01\r\u001b[K     |███████████████████▎            | 727kB 10.0MB/s eta 0:00:01\r\u001b[K     |███████████████████▋            | 737kB 10.0MB/s eta 0:00:01\r\u001b[K     |███████████████████▉            | 747kB 10.0MB/s eta 0:00:01\r\u001b[K     |████████████████████▏           | 757kB 10.0MB/s eta 0:00:01\r\u001b[K     |████████████████████▍           | 768kB 10.0MB/s eta 0:00:01\r\u001b[K     |████████████████████▊           | 778kB 10.0MB/s eta 0:00:01\r\u001b[K     |█████████████████████           | 788kB 10.0MB/s eta 0:00:01\r\u001b[K     |█████████████████████▎          | 798kB 10.0MB/s eta 0:00:01\r\u001b[K     |█████████████████████▌          | 808kB 10.0MB/s eta 0:00:01\r\u001b[K     |█████████████████████▉          | 819kB 10.0MB/s eta 0:00:01\r\u001b[K     |██████████████████████          | 829kB 10.0MB/s eta 0:00:01\r\u001b[K     |██████████████████████▎         | 839kB 10.0MB/s eta 0:00:01\r\u001b[K     |██████████████████████▋         | 849kB 10.0MB/s eta 0:00:01\r\u001b[K     |██████████████████████▉         | 860kB 10.0MB/s eta 0:00:01\r\u001b[K     |███████████████████████▏        | 870kB 10.0MB/s eta 0:00:01\r\u001b[K     |███████████████████████▍        | 880kB 10.0MB/s eta 0:00:01\r\u001b[K     |███████████████████████▊        | 890kB 10.0MB/s eta 0:00:01\r\u001b[K     |████████████████████████        | 901kB 10.0MB/s eta 0:00:01\r\u001b[K     |████████████████████████▎       | 911kB 10.0MB/s eta 0:00:01\r\u001b[K     |████████████████████████▌       | 921kB 10.0MB/s eta 0:00:01\r\u001b[K     |████████████████████████▊       | 931kB 10.0MB/s eta 0:00:01\r\u001b[K     |█████████████████████████       | 942kB 10.0MB/s eta 0:00:01\r\u001b[K     |█████████████████████████▎      | 952kB 10.0MB/s eta 0:00:01\r\u001b[K     |█████████████████████████▋      | 962kB 10.0MB/s eta 0:00:01\r\u001b[K     |█████████████████████████▉      | 972kB 10.0MB/s eta 0:00:01\r\u001b[K     |██████████████████████████▏     | 983kB 10.0MB/s eta 0:00:01\r\u001b[K     |██████████████████████████▍     | 993kB 10.0MB/s eta 0:00:01\r\u001b[K     |██████████████████████████▊     | 1.0MB 10.0MB/s eta 0:00:01\r\u001b[K     |███████████████████████████     | 1.0MB 10.0MB/s eta 0:00:01\r\u001b[K     |███████████████████████████▎    | 1.0MB 10.0MB/s eta 0:00:01\r\u001b[K     |███████████████████████████▌    | 1.0MB 10.0MB/s eta 0:00:01\r\u001b[K     |███████████████████████████▊    | 1.0MB 10.0MB/s eta 0:00:01\r\u001b[K     |████████████████████████████    | 1.1MB 10.0MB/s eta 0:00:01\r\u001b[K     |████████████████████████████▎   | 1.1MB 10.0MB/s eta 0:00:01\r\u001b[K     |████████████████████████████▋   | 1.1MB 10.0MB/s eta 0:00:01\r\u001b[K     |████████████████████████████▉   | 1.1MB 10.0MB/s eta 0:00:01\r\u001b[K     |█████████████████████████████▏  | 1.1MB 10.0MB/s eta 0:00:01\r\u001b[K     |█████████████████████████████▍  | 1.1MB 10.0MB/s eta 0:00:01\r\u001b[K     |█████████████████████████████▊  | 1.1MB 10.0MB/s eta 0:00:01\r\u001b[K     |██████████████████████████████  | 1.1MB 10.0MB/s eta 0:00:01\r\u001b[K     |██████████████████████████████▏ | 1.1MB 10.0MB/s eta 0:00:01\r\u001b[K     |██████████████████████████████▌ | 1.1MB 10.0MB/s eta 0:00:01\r\u001b[K     |██████████████████████████████▊ | 1.2MB 10.0MB/s eta 0:00:01\r\u001b[K     |███████████████████████████████ | 1.2MB 10.0MB/s eta 0:00:01\r\u001b[K     |███████████████████████████████▎| 1.2MB 10.0MB/s eta 0:00:01\r\u001b[K     |███████████████████████████████▋| 1.2MB 10.0MB/s eta 0:00:01\r\u001b[K     |███████████████████████████████▉| 1.2MB 10.0MB/s eta 0:00:01\r\u001b[K     |████████████████████████████████| 1.2MB 10.0MB/s \n",
            "\u001b[?25hInstalling collected packages: sentencepiece\n",
            "Successfully installed sentencepiece-0.1.95\n"
          ],
          "name": "stdout"
        }
      ]
    },
    {
      "cell_type": "markdown",
      "metadata": {
        "id": "iWov3aAB1fv9"
      },
      "source": [
        "Next we have to clone the github repo and import `questiongenerator`:"
      ]
    },
    {
      "cell_type": "code",
      "metadata": {
        "id": "dAv5Pn9s1qxF",
        "colab": {
          "base_uri": "https://localhost:8080/"
        },
        "outputId": "31cb5b32-3bd2-42e2-e2dd-7382b3fedba9"
      },
      "source": [
        "!git clone https://github.com/amontgomerie/question_generator/"
      ],
      "execution_count": null,
      "outputs": [
        {
          "output_type": "stream",
          "text": [
            "Cloning into 'question_generator'...\n",
            "remote: Enumerating objects: 199, done.\u001b[K\n",
            "remote: Counting objects: 100% (87/87), done.\u001b[K\n",
            "remote: Compressing objects: 100% (77/77), done.\u001b[K\n",
            "remote: Total 199 (delta 45), reused 24 (delta 9), pack-reused 112\u001b[K\n",
            "Receiving objects: 100% (199/199), 101.67 KiB | 1.30 MiB/s, done.\n",
            "Resolving deltas: 100% (100/100), done.\n"
          ],
          "name": "stdout"
        }
      ]
    },
    {
      "cell_type": "code",
      "metadata": {
        "id": "b1b3VfOMEBMO",
        "colab": {
          "base_uri": "https://localhost:8080/"
        },
        "outputId": "fbbeb49b-ad9b-4be5-e9cf-2911a1e6b9c1"
      },
      "source": [
        "%cd question_generator/\n",
        "%load questiongenerator.py\n",
        "from questiongenerator import QuestionGenerator\n",
        "from questiongenerator import print_qa"
      ],
      "execution_count": null,
      "outputs": [
        {
          "output_type": "stream",
          "text": [
            "/content/question_generator\n"
          ],
          "name": "stdout"
        }
      ]
    },
    {
      "cell_type": "markdown",
      "metadata": {
        "id": "v8W1Wg6a252c"
      },
      "source": [
        "Make sure that we're using the GPU:"
      ]
    },
    {
      "cell_type": "code",
      "metadata": {
        "id": "vORCXExB899M"
      },
      "source": [
        "import torch\n",
        "\n",
        "device = torch.device('cuda' if torch.cuda.is_available() else 'cpu')\n",
        "assert device == torch.device('cuda'), \"Not using CUDA. Set: Runtime > Change runtime type > Hardware Accelerator: GPU\""
      ],
      "execution_count": null,
      "outputs": []
    },
    {
      "cell_type": "markdown",
      "metadata": {
        "id": "zqtaLDlkdP2-"
      },
      "source": [
        "\n",
        "Now we can create a `QuestionGenerator` and feed it some text. We are going to use a BBC article about Twitter getting hacked.\n",
        "\n",
        "The models should be automatically loaded when instantiating the `QuestionGenerator` class, but if you have them saved somewhere else you can pass the path to the folder containing them as an argument like `QuestionGenerator(MODEL_DIR)`."
      ]
    },
    {
      "cell_type": "code",
      "metadata": {
        "id": "i_uS3hEw9ONQ"
      },
      "source": [
        "qg = QuestionGenerator()\n",
        "\n",
        "with open('articles/indian_matchmaking.txt', 'r') as a:\n",
        "    article = a.read()"
      ],
      "execution_count": null,
      "outputs": []
    },
    {
      "cell_type": "markdown",
      "metadata": {
        "id": "0Cyay8xh1Q4O"
      },
      "source": [
        "Now We can call `QuestionGenerator`'s `generate()` method. We can choose an answer style from `['all', 'sentences', 'multiple_choice']`. \n",
        "\n",
        "You can choose how many questions you want to generate by setting `num_questions`. Note that the quality of questions may decrease if `num_questions` is high.\n",
        "\n",
        "If you just want to print the questions without showing the answers, you can optionally set `show_answers=False` when calling `print_qa()`."
      ]
    },
    {
      "cell_type": "code",
      "metadata": {
        "id": "FE-05jjHGbA8"
      },
      "source": [
        "article = \"Modern science is typically divided  into two branches: empirical and historical. The latter is usually seen as having a more direct, well understood, and generally accepted approach of understanding the phenomena of the last fifty years. It is in this context that the concept of 'historical' science is most commonly considered a term which is used to refer to the period or phases in time or of phenomena. Consequently, even though it is commonly defined as a 'historical science' then the term is most commonly used to denote in the same way science and astronomy does. In this context it is important to note that this is only an empirical definition.\"\n",
        "article4 = \"Game development is an vernacular term for the process of bringing a story or story-driven game together. A big part of that process is to find and integrate elements from various titles into the game, whether it be the storytelling, narrative, or art style. If you ever play a game like Call of Duty and want to see how it plays in a mobile game, try this at your local PC store. This game offers a very unique experience for gamers through a very unique visual aesthetic. The game is incredibly fluid and the content is beautifully detailed.\"\n",
        "article3 = \"A computer program is a  program that runs on or has been used by more than one person. It is a computer program which is used on a computer for the purpose 'to compile data on another computer, to obtain new data or to alter existing data. For example, you have a Computer running Java, which runs a program called ' Java Studio .' A Computer is a computer program which contains its own instructions, such as executing Java code, and which interprets that instruction. These instructions are made available to other programmers using that computer for copying to or from other computers, so that there are no modifications necessary. For example, two computers, one running Java and another running Java Studio, can do more than one thing, and some can do more than one thing. When you take each of the computer programs, you also define what kind of programs that Computer is supposed to run.\"\n",
        "article2 = \"English is the largest language vernacular in existence and is the official language of the Indian subcontinent. Most of these languages use a syllable prefix, sometimes with a vowel. Borrowing a non-English language can also result in a learning problem due to having a lower pronunciatory pitch during the lesson, which may prevent students from properly pronouncing the word for themselves. Students who try to learn a non-English language can lose confidence and the ability to understand the phonetic structure and pronunciation of the word, which can cause problems for the student or the students in other school-based classes. When students are placed into classes which are outside the common language, most students will not begin the discussion of their own language without some form of clarification, such as a statement from the teacher who has been able to clarify the word and provide some examples.\"\n",
        "article1 = \"Computer science is the study of algorithmic processes, vernacular verbs. From ancient Roman Rome, classical mathematics was the study of the laws of physics, applied to all fields of human psychology and human behavior, since it is the research of those sciences to study the natural world. The classical philosophers and theologians were all familiar with the development of mathematical sciences over a period of centuries, as has been mentioned by Bocci, G.G.D., S.B. and others. All these economists understood that each of their mathematical sciences had an associated goal: to develop and test ideas in the natural sciences, in nature, in philosophy and psychology, or in theory. The problem of making general progress in mathematics is then solved. According to modern mathematical theories, natural numbers and mathematical formulas are not simply words or rules but rather represent the human and machine experience.\""
      ],
      "execution_count": null,
      "outputs": []
    },
    {
      "cell_type": "code",
      "metadata": {
        "id": "1rdEZNtzgSLq",
        "colab": {
          "base_uri": "https://localhost:8080/"
        },
        "outputId": "7d59e745-cda3-4940-ed17-0e0dc4f14c3c"
      },
      "source": [
        "qa_list = qg.generate(\n",
        "    article, \n",
        "    num_questions=5, \n",
        "    answer_style='all'\n",
        ")\n",
        "print_qa(qa_list)"
      ],
      "execution_count": null,
      "outputs": [
        {
          "output_type": "stream",
          "text": [
            "Generating questions...\n",
            "\n"
          ],
          "name": "stdout"
        },
        {
          "output_type": "stream",
          "text": [
            "/usr/local/lib/python3.7/dist-packages/transformers/models/t5/tokenization_t5.py:173: UserWarning: This sequence already has </s>. In future versions this behavior may lead to duplicated eos tokens being added.\n",
            "  f\"This sequence already has {self.eos_token}. In future versions this behavior may lead to duplicated eos tokens being added.\"\n"
          ],
          "name": "stderr"
        },
        {
          "output_type": "stream",
          "text": [
            "Evaluating QA pairs...\n",
            "\n",
            "1) Q: What is the definition of 'historical science'?\n",
            "   A: It is in this context that the concept of 'historical' science is most commonly considered a term which is used to refer to the period or phases in time or of phenomena. \n",
            "\n",
            "2) Q: What is the definition of 'historical science'?\n",
            "   A: Modern science is typically divided into two branches: empirical and historical. \n",
            "\n",
            "3) Q: What is the definition of 'historical science'?\n",
            "   A: Consequently, even though it is commonly defined as a 'historical science' then the term is most commonly used to denote in the same way science and astronomy does. \n",
            "\n",
            "4) Q: What is the definition of 'historical science'?\n",
            "   A: In this context it is important to note that this is only an empirical definition. \n",
            "\n",
            "5) Q: What is the definition of 'historical science'?\n",
            "   A: The latter is usually seen as having a more direct, well understood, and generally accepted approach of understanding the phenomena of the last fifty years. \n",
            "\n"
          ],
          "name": "stdout"
        }
      ]
    }
  ]
}